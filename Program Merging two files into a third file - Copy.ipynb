{
  "nbformat": 4,
  "nbformat_minor": 0,
  "metadata": {
    "colab": {
      "name": "Task 1_Program 1_Merging two files into a third file.ipynb",
      "provenance": []
    },
    "kernelspec": {
      "name": "ir",
      "display_name": "R"
    },
    "language_info": {
      "name": "R"
    }
  },
  "cells": [
    {
      "cell_type": "code",
      "metadata": {
        "colab": {
          "base_uri": "https://localhost:8080/"
        },
        "id": "tlpQiXWBj31o",
        "outputId": "0125c762-0315-46c3-8247-265ca8b55e28"
      },
      "source": [
        "# Installing the required packages:\n",
        "\n",
        "install.packages(\"tidyverse\")\n",
        "library(tidyverse)"
      ],
      "execution_count": 1,
      "outputs": [
        {
          "output_type": "stream",
          "text": [
            "Installing package into ‘/usr/local/lib/R/site-library’\n",
            "(as ‘lib’ is unspecified)\n",
            "\n",
            "Warning message in system(\"timedatectl\", intern = TRUE):\n",
            "“running command 'timedatectl' had status 1”\n",
            "── \u001b[1mAttaching packages\u001b[22m ─────────────────────────────────────── tidyverse 1.3.1 ──\n",
            "\n",
            "\u001b[32m✔\u001b[39m \u001b[34mggplot2\u001b[39m 3.3.3     \u001b[32m✔\u001b[39m \u001b[34mpurrr  \u001b[39m 0.3.4\n",
            "\u001b[32m✔\u001b[39m \u001b[34mtibble \u001b[39m 3.1.2     \u001b[32m✔\u001b[39m \u001b[34mdplyr  \u001b[39m 1.0.6\n",
            "\u001b[32m✔\u001b[39m \u001b[34mtidyr  \u001b[39m 1.1.3     \u001b[32m✔\u001b[39m \u001b[34mstringr\u001b[39m 1.4.0\n",
            "\u001b[32m✔\u001b[39m \u001b[34mreadr  \u001b[39m 1.4.0     \u001b[32m✔\u001b[39m \u001b[34mforcats\u001b[39m 0.5.1\n",
            "\n",
            "── \u001b[1mConflicts\u001b[22m ────────────────────────────────────────── tidyverse_conflicts() ──\n",
            "\u001b[31m✖\u001b[39m \u001b[34mdplyr\u001b[39m::\u001b[32mfilter()\u001b[39m masks \u001b[34mstats\u001b[39m::filter()\n",
            "\u001b[31m✖\u001b[39m \u001b[34mdplyr\u001b[39m::\u001b[32mlag()\u001b[39m    masks \u001b[34mstats\u001b[39m::lag()\n",
            "\n"
          ],
          "name": "stderr"
        }
      ]
    },
    {
      "cell_type": "code",
      "metadata": {
        "colab": {
          "base_uri": "https://localhost:8080/"
        },
        "id": "ILzIWb8LkIhw",
        "outputId": "fa9e5670-a926-47f1-ffe3-155f3e96400d"
      },
      "source": [
        "# Uploading the datasets to be merged:\n",
        "\n",
        "dataset_1 <- read_csv(\"dailyActivity_merged.csv\")\n",
        "dataset_2 <- read_csv(\"/sleepDay_merged.csv\")"
      ],
      "execution_count": 4,
      "outputs": [
        {
          "output_type": "stream",
          "text": [
            "\n",
            "\u001b[36m──\u001b[39m \u001b[1m\u001b[1mColumn specification\u001b[1m\u001b[22m \u001b[36m────────────────────────────────────────────────────────\u001b[39m\n",
            "cols(\n",
            "  Id = \u001b[32mcol_double()\u001b[39m,\n",
            "  ActivityDate = \u001b[31mcol_character()\u001b[39m,\n",
            "  TotalSteps = \u001b[32mcol_double()\u001b[39m,\n",
            "  TotalDistance = \u001b[32mcol_double()\u001b[39m,\n",
            "  TrackerDistance = \u001b[32mcol_double()\u001b[39m,\n",
            "  LoggedActivitiesDistance = \u001b[32mcol_double()\u001b[39m,\n",
            "  VeryActiveDistance = \u001b[32mcol_double()\u001b[39m,\n",
            "  ModeratelyActiveDistance = \u001b[32mcol_double()\u001b[39m,\n",
            "  LightActiveDistance = \u001b[32mcol_double()\u001b[39m,\n",
            "  SedentaryActiveDistance = \u001b[32mcol_double()\u001b[39m,\n",
            "  VeryActiveMinutes = \u001b[32mcol_double()\u001b[39m,\n",
            "  FairlyActiveMinutes = \u001b[32mcol_double()\u001b[39m,\n",
            "  LightlyActiveMinutes = \u001b[32mcol_double()\u001b[39m,\n",
            "  SedentaryMinutes = \u001b[32mcol_double()\u001b[39m,\n",
            "  Calories = \u001b[32mcol_double()\u001b[39m\n",
            ")\n",
            "\n",
            "\n",
            "\n",
            "\u001b[36m──\u001b[39m \u001b[1m\u001b[1mColumn specification\u001b[1m\u001b[22m \u001b[36m────────────────────────────────────────────────────────\u001b[39m\n",
            "cols(\n",
            "  Id = \u001b[32mcol_double()\u001b[39m,\n",
            "  SleepDay = \u001b[31mcol_character()\u001b[39m,\n",
            "  TotalSleepRecords = \u001b[32mcol_double()\u001b[39m,\n",
            "  TotalMinutesAsleep = \u001b[32mcol_double()\u001b[39m,\n",
            "  TotalTimeInBed = \u001b[32mcol_double()\u001b[39m\n",
            ")\n",
            "\n",
            "\n"
          ],
          "name": "stderr"
        }
      ]
    },
    {
      "cell_type": "code",
      "metadata": {
        "colab": {
          "base_uri": "https://localhost:8080/",
          "height": 569
        },
        "id": "PU8IlNoGlcYH",
        "outputId": "2f99f4af-9b45-437d-aebe-8792320a1899"
      },
      "source": [
        "# Previewing both the datasets:\n",
        "\n",
        "head(dataset_1)\n",
        "head(dataset_2)"
      ],
      "execution_count": 6,
      "outputs": [
        {
          "output_type": "display_data",
          "data": {
            "text/plain": [
              "  Id         ActivityDate TotalSteps TotalDistance TrackerDistance\n",
              "1 1503960366 4/12/2016    13162      8.50          8.50           \n",
              "2 1503960366 4/13/2016    10735      6.97          6.97           \n",
              "3 1503960366 4/14/2016    10460      6.74          6.74           \n",
              "4 1503960366 4/15/2016     9762      6.28          6.28           \n",
              "5 1503960366 4/16/2016    12669      8.16          8.16           \n",
              "6 1503960366 4/17/2016     9705      6.48          6.48           \n",
              "  LoggedActivitiesDistance VeryActiveDistance ModeratelyActiveDistance\n",
              "1 0                        1.88               0.55                    \n",
              "2 0                        1.57               0.69                    \n",
              "3 0                        2.44               0.40                    \n",
              "4 0                        2.14               1.26                    \n",
              "5 0                        2.71               0.41                    \n",
              "6 0                        3.19               0.78                    \n",
              "  LightActiveDistance SedentaryActiveDistance VeryActiveMinutes\n",
              "1 6.06                0                       25               \n",
              "2 4.71                0                       21               \n",
              "3 3.91                0                       30               \n",
              "4 2.83                0                       29               \n",
              "5 5.04                0                       36               \n",
              "6 2.51                0                       38               \n",
              "  FairlyActiveMinutes LightlyActiveMinutes SedentaryMinutes Calories\n",
              "1 13                  328                   728             1985    \n",
              "2 19                  217                   776             1797    \n",
              "3 11                  181                  1218             1776    \n",
              "4 34                  209                   726             1745    \n",
              "5 10                  221                   773             1863    \n",
              "6 20                  164                   539             1728    "
            ],
            "text/latex": "A tibble: 6 × 15\n\\begin{tabular}{lllllllllllllll}\n Id & ActivityDate & TotalSteps & TotalDistance & TrackerDistance & LoggedActivitiesDistance & VeryActiveDistance & ModeratelyActiveDistance & LightActiveDistance & SedentaryActiveDistance & VeryActiveMinutes & FairlyActiveMinutes & LightlyActiveMinutes & SedentaryMinutes & Calories\\\\\n <dbl> & <chr> & <dbl> & <dbl> & <dbl> & <dbl> & <dbl> & <dbl> & <dbl> & <dbl> & <dbl> & <dbl> & <dbl> & <dbl> & <dbl>\\\\\n\\hline\n\t 1503960366 & 4/12/2016 & 13162 & 8.50 & 8.50 & 0 & 1.88 & 0.55 & 6.06 & 0 & 25 & 13 & 328 &  728 & 1985\\\\\n\t 1503960366 & 4/13/2016 & 10735 & 6.97 & 6.97 & 0 & 1.57 & 0.69 & 4.71 & 0 & 21 & 19 & 217 &  776 & 1797\\\\\n\t 1503960366 & 4/14/2016 & 10460 & 6.74 & 6.74 & 0 & 2.44 & 0.40 & 3.91 & 0 & 30 & 11 & 181 & 1218 & 1776\\\\\n\t 1503960366 & 4/15/2016 &  9762 & 6.28 & 6.28 & 0 & 2.14 & 1.26 & 2.83 & 0 & 29 & 34 & 209 &  726 & 1745\\\\\n\t 1503960366 & 4/16/2016 & 12669 & 8.16 & 8.16 & 0 & 2.71 & 0.41 & 5.04 & 0 & 36 & 10 & 221 &  773 & 1863\\\\\n\t 1503960366 & 4/17/2016 &  9705 & 6.48 & 6.48 & 0 & 3.19 & 0.78 & 2.51 & 0 & 38 & 20 & 164 &  539 & 1728\\\\\n\\end{tabular}\n",
            "text/markdown": "\nA tibble: 6 × 15\n\n| Id &lt;dbl&gt; | ActivityDate &lt;chr&gt; | TotalSteps &lt;dbl&gt; | TotalDistance &lt;dbl&gt; | TrackerDistance &lt;dbl&gt; | LoggedActivitiesDistance &lt;dbl&gt; | VeryActiveDistance &lt;dbl&gt; | ModeratelyActiveDistance &lt;dbl&gt; | LightActiveDistance &lt;dbl&gt; | SedentaryActiveDistance &lt;dbl&gt; | VeryActiveMinutes &lt;dbl&gt; | FairlyActiveMinutes &lt;dbl&gt; | LightlyActiveMinutes &lt;dbl&gt; | SedentaryMinutes &lt;dbl&gt; | Calories &lt;dbl&gt; |\n|---|---|---|---|---|---|---|---|---|---|---|---|---|---|---|\n| 1503960366 | 4/12/2016 | 13162 | 8.50 | 8.50 | 0 | 1.88 | 0.55 | 6.06 | 0 | 25 | 13 | 328 |  728 | 1985 |\n| 1503960366 | 4/13/2016 | 10735 | 6.97 | 6.97 | 0 | 1.57 | 0.69 | 4.71 | 0 | 21 | 19 | 217 |  776 | 1797 |\n| 1503960366 | 4/14/2016 | 10460 | 6.74 | 6.74 | 0 | 2.44 | 0.40 | 3.91 | 0 | 30 | 11 | 181 | 1218 | 1776 |\n| 1503960366 | 4/15/2016 |  9762 | 6.28 | 6.28 | 0 | 2.14 | 1.26 | 2.83 | 0 | 29 | 34 | 209 |  726 | 1745 |\n| 1503960366 | 4/16/2016 | 12669 | 8.16 | 8.16 | 0 | 2.71 | 0.41 | 5.04 | 0 | 36 | 10 | 221 |  773 | 1863 |\n| 1503960366 | 4/17/2016 |  9705 | 6.48 | 6.48 | 0 | 3.19 | 0.78 | 2.51 | 0 | 38 | 20 | 164 |  539 | 1728 |\n\n",
            "text/html": [
              "<table class=\"dataframe\">\n",
              "<caption>A tibble: 6 × 15</caption>\n",
              "<thead>\n",
              "\t<tr><th scope=col>Id</th><th scope=col>ActivityDate</th><th scope=col>TotalSteps</th><th scope=col>TotalDistance</th><th scope=col>TrackerDistance</th><th scope=col>LoggedActivitiesDistance</th><th scope=col>VeryActiveDistance</th><th scope=col>ModeratelyActiveDistance</th><th scope=col>LightActiveDistance</th><th scope=col>SedentaryActiveDistance</th><th scope=col>VeryActiveMinutes</th><th scope=col>FairlyActiveMinutes</th><th scope=col>LightlyActiveMinutes</th><th scope=col>SedentaryMinutes</th><th scope=col>Calories</th></tr>\n",
              "\t<tr><th scope=col>&lt;dbl&gt;</th><th scope=col>&lt;chr&gt;</th><th scope=col>&lt;dbl&gt;</th><th scope=col>&lt;dbl&gt;</th><th scope=col>&lt;dbl&gt;</th><th scope=col>&lt;dbl&gt;</th><th scope=col>&lt;dbl&gt;</th><th scope=col>&lt;dbl&gt;</th><th scope=col>&lt;dbl&gt;</th><th scope=col>&lt;dbl&gt;</th><th scope=col>&lt;dbl&gt;</th><th scope=col>&lt;dbl&gt;</th><th scope=col>&lt;dbl&gt;</th><th scope=col>&lt;dbl&gt;</th><th scope=col>&lt;dbl&gt;</th></tr>\n",
              "</thead>\n",
              "<tbody>\n",
              "\t<tr><td>1503960366</td><td>4/12/2016</td><td>13162</td><td>8.50</td><td>8.50</td><td>0</td><td>1.88</td><td>0.55</td><td>6.06</td><td>0</td><td>25</td><td>13</td><td>328</td><td> 728</td><td>1985</td></tr>\n",
              "\t<tr><td>1503960366</td><td>4/13/2016</td><td>10735</td><td>6.97</td><td>6.97</td><td>0</td><td>1.57</td><td>0.69</td><td>4.71</td><td>0</td><td>21</td><td>19</td><td>217</td><td> 776</td><td>1797</td></tr>\n",
              "\t<tr><td>1503960366</td><td>4/14/2016</td><td>10460</td><td>6.74</td><td>6.74</td><td>0</td><td>2.44</td><td>0.40</td><td>3.91</td><td>0</td><td>30</td><td>11</td><td>181</td><td>1218</td><td>1776</td></tr>\n",
              "\t<tr><td>1503960366</td><td>4/15/2016</td><td> 9762</td><td>6.28</td><td>6.28</td><td>0</td><td>2.14</td><td>1.26</td><td>2.83</td><td>0</td><td>29</td><td>34</td><td>209</td><td> 726</td><td>1745</td></tr>\n",
              "\t<tr><td>1503960366</td><td>4/16/2016</td><td>12669</td><td>8.16</td><td>8.16</td><td>0</td><td>2.71</td><td>0.41</td><td>5.04</td><td>0</td><td>36</td><td>10</td><td>221</td><td> 773</td><td>1863</td></tr>\n",
              "\t<tr><td>1503960366</td><td>4/17/2016</td><td> 9705</td><td>6.48</td><td>6.48</td><td>0</td><td>3.19</td><td>0.78</td><td>2.51</td><td>0</td><td>38</td><td>20</td><td>164</td><td> 539</td><td>1728</td></tr>\n",
              "</tbody>\n",
              "</table>\n"
            ]
          },
          "metadata": {
            "tags": []
          }
        },
        {
          "output_type": "display_data",
          "data": {
            "text/plain": [
              "  Id         SleepDay              TotalSleepRecords TotalMinutesAsleep\n",
              "1 1503960366 4/12/2016 12:00:00 AM 1                 327               \n",
              "2 1503960366 4/13/2016 12:00:00 AM 2                 384               \n",
              "3 1503960366 4/15/2016 12:00:00 AM 1                 412               \n",
              "4 1503960366 4/16/2016 12:00:00 AM 2                 340               \n",
              "5 1503960366 4/17/2016 12:00:00 AM 1                 700               \n",
              "6 1503960366 4/19/2016 12:00:00 AM 1                 304               \n",
              "  TotalTimeInBed\n",
              "1 346           \n",
              "2 407           \n",
              "3 442           \n",
              "4 367           \n",
              "5 712           \n",
              "6 320           "
            ],
            "text/latex": "A tibble: 6 × 5\n\\begin{tabular}{lllll}\n Id & SleepDay & TotalSleepRecords & TotalMinutesAsleep & TotalTimeInBed\\\\\n <dbl> & <chr> & <dbl> & <dbl> & <dbl>\\\\\n\\hline\n\t 1503960366 & 4/12/2016 12:00:00 AM & 1 & 327 & 346\\\\\n\t 1503960366 & 4/13/2016 12:00:00 AM & 2 & 384 & 407\\\\\n\t 1503960366 & 4/15/2016 12:00:00 AM & 1 & 412 & 442\\\\\n\t 1503960366 & 4/16/2016 12:00:00 AM & 2 & 340 & 367\\\\\n\t 1503960366 & 4/17/2016 12:00:00 AM & 1 & 700 & 712\\\\\n\t 1503960366 & 4/19/2016 12:00:00 AM & 1 & 304 & 320\\\\\n\\end{tabular}\n",
            "text/markdown": "\nA tibble: 6 × 5\n\n| Id &lt;dbl&gt; | SleepDay &lt;chr&gt; | TotalSleepRecords &lt;dbl&gt; | TotalMinutesAsleep &lt;dbl&gt; | TotalTimeInBed &lt;dbl&gt; |\n|---|---|---|---|---|\n| 1503960366 | 4/12/2016 12:00:00 AM | 1 | 327 | 346 |\n| 1503960366 | 4/13/2016 12:00:00 AM | 2 | 384 | 407 |\n| 1503960366 | 4/15/2016 12:00:00 AM | 1 | 412 | 442 |\n| 1503960366 | 4/16/2016 12:00:00 AM | 2 | 340 | 367 |\n| 1503960366 | 4/17/2016 12:00:00 AM | 1 | 700 | 712 |\n| 1503960366 | 4/19/2016 12:00:00 AM | 1 | 304 | 320 |\n\n",
            "text/html": [
              "<table class=\"dataframe\">\n",
              "<caption>A tibble: 6 × 5</caption>\n",
              "<thead>\n",
              "\t<tr><th scope=col>Id</th><th scope=col>SleepDay</th><th scope=col>TotalSleepRecords</th><th scope=col>TotalMinutesAsleep</th><th scope=col>TotalTimeInBed</th></tr>\n",
              "\t<tr><th scope=col>&lt;dbl&gt;</th><th scope=col>&lt;chr&gt;</th><th scope=col>&lt;dbl&gt;</th><th scope=col>&lt;dbl&gt;</th><th scope=col>&lt;dbl&gt;</th></tr>\n",
              "</thead>\n",
              "<tbody>\n",
              "\t<tr><td>1503960366</td><td>4/12/2016 12:00:00 AM</td><td>1</td><td>327</td><td>346</td></tr>\n",
              "\t<tr><td>1503960366</td><td>4/13/2016 12:00:00 AM</td><td>2</td><td>384</td><td>407</td></tr>\n",
              "\t<tr><td>1503960366</td><td>4/15/2016 12:00:00 AM</td><td>1</td><td>412</td><td>442</td></tr>\n",
              "\t<tr><td>1503960366</td><td>4/16/2016 12:00:00 AM</td><td>2</td><td>340</td><td>367</td></tr>\n",
              "\t<tr><td>1503960366</td><td>4/17/2016 12:00:00 AM</td><td>1</td><td>700</td><td>712</td></tr>\n",
              "\t<tr><td>1503960366</td><td>4/19/2016 12:00:00 AM</td><td>1</td><td>304</td><td>320</td></tr>\n",
              "</tbody>\n",
              "</table>\n"
            ]
          },
          "metadata": {
            "tags": []
          }
        }
      ]
    },
    {
      "cell_type": "code",
      "metadata": {
        "colab": {
          "base_uri": "https://localhost:8080/",
          "height": 51
        },
        "id": "UWWZnGVwllCV",
        "outputId": "afa8acf1-29fc-4c4f-c750-7d3430bf7de4"
      },
      "source": [
        "# Inspecting the dimensions of both the datasets:\n",
        "\n",
        "dim(dataset_1)\n",
        "dim(dataset_2)"
      ],
      "execution_count": 7,
      "outputs": [
        {
          "output_type": "display_data",
          "data": {
            "text/plain": [
              "[1] 940  15"
            ],
            "text/latex": "\\begin{enumerate*}\n\\item 940\n\\item 15\n\\end{enumerate*}\n",
            "text/markdown": "1. 940\n2. 15\n\n\n",
            "text/html": [
              "<style>\n",
              ".list-inline {list-style: none; margin:0; padding: 0}\n",
              ".list-inline>li {display: inline-block}\n",
              ".list-inline>li:not(:last-child)::after {content: \"\\00b7\"; padding: 0 .5ex}\n",
              "</style>\n",
              "<ol class=list-inline><li>940</li><li>15</li></ol>\n"
            ]
          },
          "metadata": {
            "tags": []
          }
        },
        {
          "output_type": "display_data",
          "data": {
            "text/plain": [
              "[1] 413   5"
            ],
            "text/latex": "\\begin{enumerate*}\n\\item 413\n\\item 5\n\\end{enumerate*}\n",
            "text/markdown": "1. 413\n2. 5\n\n\n",
            "text/html": [
              "<style>\n",
              ".list-inline {list-style: none; margin:0; padding: 0}\n",
              ".list-inline>li {display: inline-block}\n",
              ".list-inline>li:not(:last-child)::after {content: \"\\00b7\"; padding: 0 .5ex}\n",
              "</style>\n",
              "<ol class=list-inline><li>413</li><li>5</li></ol>\n"
            ]
          },
          "metadata": {
            "tags": []
          }
        }
      ]
    },
    {
      "cell_type": "code",
      "metadata": {
        "colab": {
          "base_uri": "https://localhost:8080/",
          "height": 524
        },
        "id": "DcwADvz2lBy5",
        "outputId": "f04d3905-5c6d-428b-b75c-de2de0c7dff8"
      },
      "source": [
        "# Merging the datasets by the common column 'Id' and creating a new dataset 'merged_dataset':\n",
        "\n",
        "merged_dataset <- merge(dataset_1, dataset_2, by='Id')\n",
        "\n",
        "# Inspecting the dimensions of the merged dataset:\n",
        "\n",
        "dim(merged_dataset)\n",
        "\n",
        "# Previewing the merged dataset:\n",
        "\n",
        "head(merged_dataset)\n",
        "\n"
      ],
      "execution_count": 10,
      "outputs": [
        {
          "output_type": "display_data",
          "data": {
            "text/plain": [
              "[1] 12441    19"
            ],
            "text/latex": "\\begin{enumerate*}\n\\item 12441\n\\item 19\n\\end{enumerate*}\n",
            "text/markdown": "1. 12441\n2. 19\n\n\n",
            "text/html": [
              "<style>\n",
              ".list-inline {list-style: none; margin:0; padding: 0}\n",
              ".list-inline>li {display: inline-block}\n",
              ".list-inline>li:not(:last-child)::after {content: \"\\00b7\"; padding: 0 .5ex}\n",
              "</style>\n",
              "<ol class=list-inline><li>12441</li><li>19</li></ol>\n"
            ]
          },
          "metadata": {
            "tags": []
          }
        },
        {
          "output_type": "display_data",
          "data": {
            "text/plain": [
              "  Id         ActivityDate TotalSteps TotalDistance TrackerDistance\n",
              "1 1503960366 5/7/2016     11992      7.71          7.71           \n",
              "2 1503960366 5/7/2016     11992      7.71          7.71           \n",
              "3 1503960366 5/7/2016     11992      7.71          7.71           \n",
              "4 1503960366 5/7/2016     11992      7.71          7.71           \n",
              "5 1503960366 5/7/2016     11992      7.71          7.71           \n",
              "6 1503960366 5/7/2016     11992      7.71          7.71           \n",
              "  LoggedActivitiesDistance VeryActiveDistance ModeratelyActiveDistance\n",
              "1 0                        2.46               2.12                    \n",
              "2 0                        2.46               2.12                    \n",
              "3 0                        2.46               2.12                    \n",
              "4 0                        2.46               2.12                    \n",
              "5 0                        2.46               2.12                    \n",
              "6 0                        2.46               2.12                    \n",
              "  LightActiveDistance SedentaryActiveDistance VeryActiveMinutes\n",
              "1 3.13                0                       37               \n",
              "2 3.13                0                       37               \n",
              "3 3.13                0                       37               \n",
              "4 3.13                0                       37               \n",
              "5 3.13                0                       37               \n",
              "6 3.13                0                       37               \n",
              "  FairlyActiveMinutes LightlyActiveMinutes SedentaryMinutes Calories\n",
              "1 46                  175                  833              1821    \n",
              "2 46                  175                  833              1821    \n",
              "3 46                  175                  833              1821    \n",
              "4 46                  175                  833              1821    \n",
              "5 46                  175                  833              1821    \n",
              "6 46                  175                  833              1821    \n",
              "  SleepDay              TotalSleepRecords TotalMinutesAsleep TotalTimeInBed\n",
              "1 4/12/2016 12:00:00 AM 1                 327                346           \n",
              "2 4/13/2016 12:00:00 AM 2                 384                407           \n",
              "3 4/15/2016 12:00:00 AM 1                 412                442           \n",
              "4 4/16/2016 12:00:00 AM 2                 340                367           \n",
              "5 4/17/2016 12:00:00 AM 1                 700                712           \n",
              "6 4/19/2016 12:00:00 AM 1                 304                320           "
            ],
            "text/latex": "A data.frame: 6 × 19\n\\begin{tabular}{r|lllllllllllllllllll}\n  & Id & ActivityDate & TotalSteps & TotalDistance & TrackerDistance & LoggedActivitiesDistance & VeryActiveDistance & ModeratelyActiveDistance & LightActiveDistance & SedentaryActiveDistance & VeryActiveMinutes & FairlyActiveMinutes & LightlyActiveMinutes & SedentaryMinutes & Calories & SleepDay & TotalSleepRecords & TotalMinutesAsleep & TotalTimeInBed\\\\\n  & <dbl> & <chr> & <dbl> & <dbl> & <dbl> & <dbl> & <dbl> & <dbl> & <dbl> & <dbl> & <dbl> & <dbl> & <dbl> & <dbl> & <dbl> & <chr> & <dbl> & <dbl> & <dbl>\\\\\n\\hline\n\t1 & 1503960366 & 5/7/2016 & 11992 & 7.71 & 7.71 & 0 & 2.46 & 2.12 & 3.13 & 0 & 37 & 46 & 175 & 833 & 1821 & 4/12/2016 12:00:00 AM & 1 & 327 & 346\\\\\n\t2 & 1503960366 & 5/7/2016 & 11992 & 7.71 & 7.71 & 0 & 2.46 & 2.12 & 3.13 & 0 & 37 & 46 & 175 & 833 & 1821 & 4/13/2016 12:00:00 AM & 2 & 384 & 407\\\\\n\t3 & 1503960366 & 5/7/2016 & 11992 & 7.71 & 7.71 & 0 & 2.46 & 2.12 & 3.13 & 0 & 37 & 46 & 175 & 833 & 1821 & 4/15/2016 12:00:00 AM & 1 & 412 & 442\\\\\n\t4 & 1503960366 & 5/7/2016 & 11992 & 7.71 & 7.71 & 0 & 2.46 & 2.12 & 3.13 & 0 & 37 & 46 & 175 & 833 & 1821 & 4/16/2016 12:00:00 AM & 2 & 340 & 367\\\\\n\t5 & 1503960366 & 5/7/2016 & 11992 & 7.71 & 7.71 & 0 & 2.46 & 2.12 & 3.13 & 0 & 37 & 46 & 175 & 833 & 1821 & 4/17/2016 12:00:00 AM & 1 & 700 & 712\\\\\n\t6 & 1503960366 & 5/7/2016 & 11992 & 7.71 & 7.71 & 0 & 2.46 & 2.12 & 3.13 & 0 & 37 & 46 & 175 & 833 & 1821 & 4/19/2016 12:00:00 AM & 1 & 304 & 320\\\\\n\\end{tabular}\n",
            "text/markdown": "\nA data.frame: 6 × 19\n\n| <!--/--> | Id &lt;dbl&gt; | ActivityDate &lt;chr&gt; | TotalSteps &lt;dbl&gt; | TotalDistance &lt;dbl&gt; | TrackerDistance &lt;dbl&gt; | LoggedActivitiesDistance &lt;dbl&gt; | VeryActiveDistance &lt;dbl&gt; | ModeratelyActiveDistance &lt;dbl&gt; | LightActiveDistance &lt;dbl&gt; | SedentaryActiveDistance &lt;dbl&gt; | VeryActiveMinutes &lt;dbl&gt; | FairlyActiveMinutes &lt;dbl&gt; | LightlyActiveMinutes &lt;dbl&gt; | SedentaryMinutes &lt;dbl&gt; | Calories &lt;dbl&gt; | SleepDay &lt;chr&gt; | TotalSleepRecords &lt;dbl&gt; | TotalMinutesAsleep &lt;dbl&gt; | TotalTimeInBed &lt;dbl&gt; |\n|---|---|---|---|---|---|---|---|---|---|---|---|---|---|---|---|---|---|---|---|\n| 1 | 1503960366 | 5/7/2016 | 11992 | 7.71 | 7.71 | 0 | 2.46 | 2.12 | 3.13 | 0 | 37 | 46 | 175 | 833 | 1821 | 4/12/2016 12:00:00 AM | 1 | 327 | 346 |\n| 2 | 1503960366 | 5/7/2016 | 11992 | 7.71 | 7.71 | 0 | 2.46 | 2.12 | 3.13 | 0 | 37 | 46 | 175 | 833 | 1821 | 4/13/2016 12:00:00 AM | 2 | 384 | 407 |\n| 3 | 1503960366 | 5/7/2016 | 11992 | 7.71 | 7.71 | 0 | 2.46 | 2.12 | 3.13 | 0 | 37 | 46 | 175 | 833 | 1821 | 4/15/2016 12:00:00 AM | 1 | 412 | 442 |\n| 4 | 1503960366 | 5/7/2016 | 11992 | 7.71 | 7.71 | 0 | 2.46 | 2.12 | 3.13 | 0 | 37 | 46 | 175 | 833 | 1821 | 4/16/2016 12:00:00 AM | 2 | 340 | 367 |\n| 5 | 1503960366 | 5/7/2016 | 11992 | 7.71 | 7.71 | 0 | 2.46 | 2.12 | 3.13 | 0 | 37 | 46 | 175 | 833 | 1821 | 4/17/2016 12:00:00 AM | 1 | 700 | 712 |\n| 6 | 1503960366 | 5/7/2016 | 11992 | 7.71 | 7.71 | 0 | 2.46 | 2.12 | 3.13 | 0 | 37 | 46 | 175 | 833 | 1821 | 4/19/2016 12:00:00 AM | 1 | 304 | 320 |\n\n",
            "text/html": [
              "<table class=\"dataframe\">\n",
              "<caption>A data.frame: 6 × 19</caption>\n",
              "<thead>\n",
              "\t<tr><th></th><th scope=col>Id</th><th scope=col>ActivityDate</th><th scope=col>TotalSteps</th><th scope=col>TotalDistance</th><th scope=col>TrackerDistance</th><th scope=col>LoggedActivitiesDistance</th><th scope=col>VeryActiveDistance</th><th scope=col>ModeratelyActiveDistance</th><th scope=col>LightActiveDistance</th><th scope=col>SedentaryActiveDistance</th><th scope=col>VeryActiveMinutes</th><th scope=col>FairlyActiveMinutes</th><th scope=col>LightlyActiveMinutes</th><th scope=col>SedentaryMinutes</th><th scope=col>Calories</th><th scope=col>SleepDay</th><th scope=col>TotalSleepRecords</th><th scope=col>TotalMinutesAsleep</th><th scope=col>TotalTimeInBed</th></tr>\n",
              "\t<tr><th></th><th scope=col>&lt;dbl&gt;</th><th scope=col>&lt;chr&gt;</th><th scope=col>&lt;dbl&gt;</th><th scope=col>&lt;dbl&gt;</th><th scope=col>&lt;dbl&gt;</th><th scope=col>&lt;dbl&gt;</th><th scope=col>&lt;dbl&gt;</th><th scope=col>&lt;dbl&gt;</th><th scope=col>&lt;dbl&gt;</th><th scope=col>&lt;dbl&gt;</th><th scope=col>&lt;dbl&gt;</th><th scope=col>&lt;dbl&gt;</th><th scope=col>&lt;dbl&gt;</th><th scope=col>&lt;dbl&gt;</th><th scope=col>&lt;dbl&gt;</th><th scope=col>&lt;chr&gt;</th><th scope=col>&lt;dbl&gt;</th><th scope=col>&lt;dbl&gt;</th><th scope=col>&lt;dbl&gt;</th></tr>\n",
              "</thead>\n",
              "<tbody>\n",
              "\t<tr><th scope=row>1</th><td>1503960366</td><td>5/7/2016</td><td>11992</td><td>7.71</td><td>7.71</td><td>0</td><td>2.46</td><td>2.12</td><td>3.13</td><td>0</td><td>37</td><td>46</td><td>175</td><td>833</td><td>1821</td><td>4/12/2016 12:00:00 AM</td><td>1</td><td>327</td><td>346</td></tr>\n",
              "\t<tr><th scope=row>2</th><td>1503960366</td><td>5/7/2016</td><td>11992</td><td>7.71</td><td>7.71</td><td>0</td><td>2.46</td><td>2.12</td><td>3.13</td><td>0</td><td>37</td><td>46</td><td>175</td><td>833</td><td>1821</td><td>4/13/2016 12:00:00 AM</td><td>2</td><td>384</td><td>407</td></tr>\n",
              "\t<tr><th scope=row>3</th><td>1503960366</td><td>5/7/2016</td><td>11992</td><td>7.71</td><td>7.71</td><td>0</td><td>2.46</td><td>2.12</td><td>3.13</td><td>0</td><td>37</td><td>46</td><td>175</td><td>833</td><td>1821</td><td>4/15/2016 12:00:00 AM</td><td>1</td><td>412</td><td>442</td></tr>\n",
              "\t<tr><th scope=row>4</th><td>1503960366</td><td>5/7/2016</td><td>11992</td><td>7.71</td><td>7.71</td><td>0</td><td>2.46</td><td>2.12</td><td>3.13</td><td>0</td><td>37</td><td>46</td><td>175</td><td>833</td><td>1821</td><td>4/16/2016 12:00:00 AM</td><td>2</td><td>340</td><td>367</td></tr>\n",
              "\t<tr><th scope=row>5</th><td>1503960366</td><td>5/7/2016</td><td>11992</td><td>7.71</td><td>7.71</td><td>0</td><td>2.46</td><td>2.12</td><td>3.13</td><td>0</td><td>37</td><td>46</td><td>175</td><td>833</td><td>1821</td><td>4/17/2016 12:00:00 AM</td><td>1</td><td>700</td><td>712</td></tr>\n",
              "\t<tr><th scope=row>6</th><td>1503960366</td><td>5/7/2016</td><td>11992</td><td>7.71</td><td>7.71</td><td>0</td><td>2.46</td><td>2.12</td><td>3.13</td><td>0</td><td>37</td><td>46</td><td>175</td><td>833</td><td>1821</td><td>4/19/2016 12:00:00 AM</td><td>1</td><td>304</td><td>320</td></tr>\n",
              "</tbody>\n",
              "</table>\n"
            ]
          },
          "metadata": {
            "tags": []
          }
        }
      ]
    }
  ]
}