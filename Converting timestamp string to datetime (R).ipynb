{
  "nbformat": 4,
  "nbformat_minor": 0,
  "metadata": {
    "colab": {
      "name": "Task 1 Program 6_ Converting timestamp string to datetime (R).ipynb",
      "provenance": []
    },
    "kernelspec": {
      "name": "ir",
      "display_name": "R"
    },
    "language_info": {
      "name": "R"
    }
  },
  "cells": [
    {
      "cell_type": "code",
      "metadata": {
        "colab": {
          "base_uri": "https://localhost:8080/"
        },
        "id": "zHU6YjOoHIJk",
        "outputId": "52796e33-ee58-4ded-d9c0-685ab8b8850e"
      },
      "source": [
        "# To convert timestamp string to date-time\n",
        "\n",
        "# Installing the necessary packages:\n",
        "\n",
        "install.packages(\"tidyverse\")\n",
        "library(tidyverse)\n",
        "library(lubridate)"
      ],
      "execution_count": 1,
      "outputs": [
        {
          "output_type": "stream",
          "text": [
            "Installing package into ‘/usr/local/lib/R/site-library’\n",
            "(as ‘lib’ is unspecified)\n",
            "\n",
            "Warning message in system(\"timedatectl\", intern = TRUE):\n",
            "“running command 'timedatectl' had status 1”\n",
            "── \u001b[1mAttaching packages\u001b[22m ─────────────────────────────────────── tidyverse 1.3.1 ──\n",
            "\n",
            "\u001b[32m✔\u001b[39m \u001b[34mggplot2\u001b[39m 3.3.3     \u001b[32m✔\u001b[39m \u001b[34mpurrr  \u001b[39m 0.3.4\n",
            "\u001b[32m✔\u001b[39m \u001b[34mtibble \u001b[39m 3.1.2     \u001b[32m✔\u001b[39m \u001b[34mdplyr  \u001b[39m 1.0.6\n",
            "\u001b[32m✔\u001b[39m \u001b[34mtidyr  \u001b[39m 1.1.3     \u001b[32m✔\u001b[39m \u001b[34mstringr\u001b[39m 1.4.0\n",
            "\u001b[32m✔\u001b[39m \u001b[34mreadr  \u001b[39m 1.4.0     \u001b[32m✔\u001b[39m \u001b[34mforcats\u001b[39m 0.5.1\n",
            "\n",
            "── \u001b[1mConflicts\u001b[22m ────────────────────────────────────────── tidyverse_conflicts() ──\n",
            "\u001b[31m✖\u001b[39m \u001b[34mdplyr\u001b[39m::\u001b[32mfilter()\u001b[39m masks \u001b[34mstats\u001b[39m::filter()\n",
            "\u001b[31m✖\u001b[39m \u001b[34mdplyr\u001b[39m::\u001b[32mlag()\u001b[39m    masks \u001b[34mstats\u001b[39m::lag()\n",
            "\n",
            "\n",
            "Attaching package: ‘lubridate’\n",
            "\n",
            "\n",
            "The following objects are masked from ‘package:base’:\n",
            "\n",
            "    date, intersect, setdiff, union\n",
            "\n",
            "\n"
          ],
          "name": "stderr"
        }
      ]
    },
    {
      "cell_type": "code",
      "metadata": {
        "colab": {
          "base_uri": "https://localhost:8080/",
          "height": 207
        },
        "id": "6KllrqBYHJ1U",
        "outputId": "bd4c2839-98d0-41de-9965-43ebb891ab12"
      },
      "source": [
        "# Let us create a dataframe containing timestamps:\n",
        "\n",
        "column_1 <- c(\"1511870400\", \"1534871424\", \"2111870440\")\n",
        "df <- data.frame(column_1)\n",
        "\n",
        "# Previewing the formed dataframe:\n",
        "\n",
        "head(df)"
      ],
      "execution_count": 2,
      "outputs": [
        {
          "output_type": "display_data",
          "data": {
            "text/plain": [
              "  column_1  \n",
              "1 1511870400\n",
              "2 1534871424\n",
              "3 2111870440"
            ],
            "text/latex": "A data.frame: 3 × 1\n\\begin{tabular}{r|l}\n  & column\\_1\\\\\n  & <chr>\\\\\n\\hline\n\t1 & 1511870400\\\\\n\t2 & 1534871424\\\\\n\t3 & 2111870440\\\\\n\\end{tabular}\n",
            "text/markdown": "\nA data.frame: 3 × 1\n\n| <!--/--> | column_1 &lt;chr&gt; |\n|---|---|\n| 1 | 1511870400 |\n| 2 | 1534871424 |\n| 3 | 2111870440 |\n\n",
            "text/html": [
              "<table class=\"dataframe\">\n",
              "<caption>A data.frame: 3 × 1</caption>\n",
              "<thead>\n",
              "\t<tr><th></th><th scope=col>column_1</th></tr>\n",
              "\t<tr><th></th><th scope=col>&lt;chr&gt;</th></tr>\n",
              "</thead>\n",
              "<tbody>\n",
              "\t<tr><th scope=row>1</th><td>1511870400</td></tr>\n",
              "\t<tr><th scope=row>2</th><td>1534871424</td></tr>\n",
              "\t<tr><th scope=row>3</th><td>2111870440</td></tr>\n",
              "</tbody>\n",
              "</table>\n"
            ]
          },
          "metadata": {
            "tags": []
          }
        }
      ]
    },
    {
      "cell_type": "code",
      "metadata": {
        "colab": {
          "base_uri": "https://localhost:8080/",
          "height": 207
        },
        "id": "wk9BXdH0HLMs",
        "outputId": "78196233-cc61-4053-af32-0e9e618cee3b"
      },
      "source": [
        "df <- df %>% mutate(column_1=as.numeric(as.character(column_1)))\n",
        "\n",
        "head(df)"
      ],
      "execution_count": 3,
      "outputs": [
        {
          "output_type": "display_data",
          "data": {
            "text/plain": [
              "  column_1  \n",
              "1 1511870400\n",
              "2 1534871424\n",
              "3 2111870440"
            ],
            "text/latex": "A data.frame: 3 × 1\n\\begin{tabular}{r|l}\n  & column\\_1\\\\\n  & <dbl>\\\\\n\\hline\n\t1 & 1511870400\\\\\n\t2 & 1534871424\\\\\n\t3 & 2111870440\\\\\n\\end{tabular}\n",
            "text/markdown": "\nA data.frame: 3 × 1\n\n| <!--/--> | column_1 &lt;dbl&gt; |\n|---|---|\n| 1 | 1511870400 |\n| 2 | 1534871424 |\n| 3 | 2111870440 |\n\n",
            "text/html": [
              "<table class=\"dataframe\">\n",
              "<caption>A data.frame: 3 × 1</caption>\n",
              "<thead>\n",
              "\t<tr><th></th><th scope=col>column_1</th></tr>\n",
              "\t<tr><th></th><th scope=col>&lt;dbl&gt;</th></tr>\n",
              "</thead>\n",
              "<tbody>\n",
              "\t<tr><th scope=row>1</th><td>1511870400</td></tr>\n",
              "\t<tr><th scope=row>2</th><td>1534871424</td></tr>\n",
              "\t<tr><th scope=row>3</th><td>2111870440</td></tr>\n",
              "</tbody>\n",
              "</table>\n"
            ]
          },
          "metadata": {
            "tags": []
          }
        }
      ]
    },
    {
      "cell_type": "code",
      "metadata": {
        "colab": {
          "base_uri": "https://localhost:8080/",
          "height": 51
        },
        "id": "ttUj4ozGHRuZ",
        "outputId": "3f743893-0e07-4584-a2bb-468bb229ab24"
      },
      "source": [
        "# Now converting the timestamp to datetime using the POSIXct base function:\n",
        "\n",
        "head(as.POSIXct(as.numeric(as.character(df$column_1)), origin=\"1970-01-01\", tz=\"GMT\"))"
      ],
      "execution_count": 4,
      "outputs": [
        {
          "output_type": "display_data",
          "data": {
            "text/plain": [
              "[1] \"2017-11-28 12:00:00 GMT\" \"2018-08-21 17:10:24 GMT\"\n",
              "[3] \"2036-12-02 22:40:40 GMT\""
            ]
          },
          "metadata": {
            "tags": []
          }
        }
      ]
    },
    {
      "cell_type": "code",
      "metadata": {
        "id": "3TAnMMalHTYm"
      },
      "source": [
        "# Storing it in a new column in the dataframe:\n",
        "\n",
        "df$column_2 <- head(as.POSIXct(as.numeric(as.character(df$column_1)), origin=\"1970-01-01\", tz=\"GMT\"))"
      ],
      "execution_count": 6,
      "outputs": []
    },
    {
      "cell_type": "code",
      "metadata": {
        "colab": {
          "base_uri": "https://localhost:8080/",
          "height": 190
        },
        "id": "dkRohBtsHVaI",
        "outputId": "d9d611dc-7013-465c-c9c9-da35b1e43d3e"
      },
      "source": [
        "head(df)"
      ],
      "execution_count": 7,
      "outputs": [
        {
          "output_type": "display_data",
          "data": {
            "text/plain": [
              "  column_1   column_2           \n",
              "1 1511870400 2017-11-28 12:00:00\n",
              "2 1534871424 2018-08-21 17:10:24\n",
              "3 2111870440 2036-12-02 22:40:40"
            ],
            "text/latex": "A data.frame: 3 × 2\n\\begin{tabular}{r|ll}\n  & column\\_1 & column\\_2\\\\\n  & <dbl> & <dttm>\\\\\n\\hline\n\t1 & 1511870400 & 2017-11-28 12:00:00\\\\\n\t2 & 1534871424 & 2018-08-21 17:10:24\\\\\n\t3 & 2111870440 & 2036-12-02 22:40:40\\\\\n\\end{tabular}\n",
            "text/markdown": "\nA data.frame: 3 × 2\n\n| <!--/--> | column_1 &lt;dbl&gt; | column_2 &lt;dttm&gt; |\n|---|---|---|\n| 1 | 1511870400 | 2017-11-28 12:00:00 |\n| 2 | 1534871424 | 2018-08-21 17:10:24 |\n| 3 | 2111870440 | 2036-12-02 22:40:40 |\n\n",
            "text/html": [
              "<table class=\"dataframe\">\n",
              "<caption>A data.frame: 3 × 2</caption>\n",
              "<thead>\n",
              "\t<tr><th></th><th scope=col>column_1</th><th scope=col>column_2</th></tr>\n",
              "\t<tr><th></th><th scope=col>&lt;dbl&gt;</th><th scope=col>&lt;dttm&gt;</th></tr>\n",
              "</thead>\n",
              "<tbody>\n",
              "\t<tr><th scope=row>1</th><td>1511870400</td><td>2017-11-28 12:00:00</td></tr>\n",
              "\t<tr><th scope=row>2</th><td>1534871424</td><td>2018-08-21 17:10:24</td></tr>\n",
              "\t<tr><th scope=row>3</th><td>2111870440</td><td>2036-12-02 22:40:40</td></tr>\n",
              "</tbody>\n",
              "</table>\n"
            ]
          },
          "metadata": {
            "tags": []
          }
        }
      ]
    }
  ]
}